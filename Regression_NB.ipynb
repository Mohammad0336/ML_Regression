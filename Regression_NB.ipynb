{
 "cells": [
  {
   "cell_type": "markdown",
   "metadata": {},
   "source": [
    "# Assignment 1"
   ]
  },
  {
   "cell_type": "markdown",
   "metadata": {},
   "source": [
    "## Imports"
   ]
  },
  {
   "cell_type": "code",
   "execution_count": 485,
   "metadata": {},
   "outputs": [],
   "source": [
    "import pandas as pd\n",
    "import numpy as np\n",
    "import matplotlib.pyplot as plt\n",
    "from sklearn.preprocessing import PolynomialFeatures\n",
    "from sklearn.preprocessing import StandardScaler"
   ]
  },
  {
   "cell_type": "markdown",
   "metadata": {},
   "source": [
    "## Functions"
   ]
  },
  {
   "cell_type": "code",
   "execution_count": 486,
   "metadata": {},
   "outputs": [],
   "source": [
    "# RMSE calculator\n",
    "def calculate_rmse(y_true, y_pred):\n",
    "    rmse = np.sqrt(np.mean((y_true - y_pred) ** 2))\n",
    "    return rmse"
   ]
  },
  {
   "cell_type": "code",
   "execution_count": 487,
   "metadata": {},
   "outputs": [],
   "source": [
    "# MEA calculator\n",
    "def calculate_mae(y_true, y_pred):\n",
    "    mae = np.mean(np.abs(y_true - y_pred))\n",
    "    return mae"
   ]
  },
  {
   "cell_type": "code",
   "execution_count": 488,
   "metadata": {},
   "outputs": [],
   "source": [
    "# Ridge Regression using Batch Gradient Descent\n",
    "def ridge_regression_gradient_descent(X, y, lr, epochs, lambda_reg):\n",
    "    m, n = X.shape\n",
    "    theta = np.random.randn(n, 1)  # initializing theta with random values\n",
    "    cost_history = []\n",
    "\n",
    "    for epoch in range(epochs):\n",
    "        gradients = 2/m * X.T.dot(X.dot(theta) - y) + 2*lambda_reg*theta\n",
    "        theta = theta - lr * gradients\n",
    "        cost = np.sum((X.dot(theta) - y) ** 2) / m + lambda_reg * np.sum(theta ** 2)\n",
    "        cost_history.append(cost)\n",
    "    \n",
    "    return theta, cost_history"
   ]
  },
  {
   "cell_type": "code",
   "execution_count": 489,
   "metadata": {},
   "outputs": [],
   "source": [
    "# Exact line search formula\n",
    "def exact_line_search(X, y, theta, gradients, lambda_reg, step_sizes=np.linspace(0.01, 0.1, 1000)):\n",
    "    min_cost = np.inf\n",
    "    optimal_step_size = step_sizes[0]\n",
    "    for step_size in step_sizes:\n",
    "        theta_test = theta - step_size * gradients\n",
    "        cost = np.sum((X.dot(theta_test) - y.reshape(-1, 1)) ** 2) / len(y) + lambda_reg * np.sum(theta_test ** 2)\n",
    "        if cost < min_cost:\n",
    "            min_cost = cost\n",
    "            optimal_step_size = step_size\n",
    "    return optimal_step_size"
   ]
  },
  {
   "cell_type": "code",
   "execution_count": 490,
   "metadata": {},
   "outputs": [],
   "source": [
    "# Ridge Regression using Exact Line Search\n",
    "def ridge_regression_with_exact_line_search(X, y, epochs, lambda_reg):\n",
    "    m, n = X.shape\n",
    "    theta = np.random.randn(n, 1)  # initializing theta with random values\n",
    "    cost_history = []\n",
    "\n",
    "    for epoch in range(epochs):\n",
    "        gradients = 2/m * X.T.dot(X.dot(theta) - y) + 2*lambda_reg*theta\n",
    "        step_size = exact_line_search(X, y, theta, gradients, lambda_reg)\n",
    "        theta = theta - step_size * gradients\n",
    "        cost = np.sum((X.dot(theta) - y) ** 2) / m + lambda_reg * np.sum(theta ** 2)\n",
    "        cost_history.append(cost)\n",
    "    \n",
    "    return theta, cost_history"
   ]
  },
  {
   "cell_type": "markdown",
   "metadata": {},
   "source": [
    "## Datasets"
   ]
  },
  {
   "cell_type": "code",
   "execution_count": 491,
   "metadata": {},
   "outputs": [],
   "source": [
    "## training and test sets from the zip file\n",
    "poly_test = pd.read_csv(\"polynomial_regression_test_data.csv\").filter(items=['x', 'y'])\n",
    "poly_train = pd.read_csv(\"polynomial_regression_train_data.csv\").filter(items=['x', 'y'])\n",
    "ridge_test = pd.read_csv(\"ridge_regression_test_data.csv\").filter(items=['x', 'y'])\n",
    "ridge_train = pd.read_csv(\"ridge_regression_train_data.csv\").filter(items=['x', 'y'])"
   ]
  },
  {
   "cell_type": "markdown",
   "metadata": {},
   "source": [
    "## Ridge Regression Variants"
   ]
  },
  {
   "cell_type": "markdown",
   "metadata": {},
   "source": [
    "The goal of this assignment is to learn how to implement polynomial (linear and higher degree) re-\n",
    "gression with regularization (i.e., ridge regression) in closed form and gradient descent. Additionally,\n",
    "bonus on the assignment is to learn the exact line search which is a variant on the gradient descent\n",
    "that should be faster. Bonus marks will be used to amend any loss of marks in other assignments,\n",
    "project, exams or attendance."
   ]
  },
  {
   "cell_type": "markdown",
   "metadata": {},
   "source": [
    "### Ridge Regression (Linear) Closed Form"
   ]
  },
  {
   "cell_type": "code",
   "execution_count": 492,
   "metadata": {},
   "outputs": [
    {
     "data": {
      "text/html": [
       "<div>\n",
       "<style scoped>\n",
       "    .dataframe tbody tr th:only-of-type {\n",
       "        vertical-align: middle;\n",
       "    }\n",
       "\n",
       "    .dataframe tbody tr th {\n",
       "        vertical-align: top;\n",
       "    }\n",
       "\n",
       "    .dataframe thead th {\n",
       "        text-align: right;\n",
       "    }\n",
       "</style>\n",
       "<table border=\"1\" class=\"dataframe\">\n",
       "  <thead>\n",
       "    <tr style=\"text-align: right;\">\n",
       "      <th></th>\n",
       "      <th>Intercept</th>\n",
       "      <th>Coef</th>\n",
       "    </tr>\n",
       "  </thead>\n",
       "  <tbody>\n",
       "    <tr>\n",
       "      <th>0</th>\n",
       "      <td>8.257565</td>\n",
       "      <td>1.318218</td>\n",
       "    </tr>\n",
       "  </tbody>\n",
       "</table>\n",
       "</div>"
      ],
      "text/plain": [
       "   Intercept      Coef\n",
       "0   8.257565  1.318218"
      ]
     },
     "execution_count": 492,
     "metadata": {},
     "output_type": "execute_result"
    }
   ],
   "source": [
    "# Training dataframes parsed for x, and y values\n",
    "X_train = ridge_train.filter(items=['x'])\n",
    "y_train = ridge_train['y'].values\n",
    "\n",
    "# Test dataframes parsed for x, and y values\n",
    "X_test = ridge_test.filter(items=['x'])\n",
    "y_test = ridge_test['y'].values\n",
    "\n",
    "# Adding a column of ones to X_train and X_test for the intercept\n",
    "X_train = np.hstack([np.ones((X_train.shape[0], 1)), X_train])\n",
    "X_test = np.hstack([np.ones((X_test.shape[0], 1)), X_test])\n",
    "\n",
    "# Ridge Regression variables\n",
    "lambda_param = 0.1  # Regularization variables\n",
    "I = np.eye(X_train.shape[1])  # Matrix\n",
    "\n",
    "# Closed form solution\n",
    "beta = np.linalg.inv(X_train.T @ X_train + lambda_param * I) @ X_train.T @ y_train\n",
    "\n",
    "# Calculating the predictions \n",
    "y_pred_train = X_train @ beta\n",
    "y_pred_test = X_test @ beta\n",
    "\n",
    "# intercept and coefficient are in beta var\n",
    "results_bf = pd.DataFrame({\"Intercept\": [beta[0]], \"Coef\": [beta[1]]})\n",
    "results_bf"
   ]
  },
  {
   "cell_type": "code",
   "execution_count": 493,
   "metadata": {},
   "outputs": [
    {
     "data": {
      "text/html": [
       "<div>\n",
       "<style scoped>\n",
       "    .dataframe tbody tr th:only-of-type {\n",
       "        vertical-align: middle;\n",
       "    }\n",
       "\n",
       "    .dataframe tbody tr th {\n",
       "        vertical-align: top;\n",
       "    }\n",
       "\n",
       "    .dataframe thead th {\n",
       "        text-align: right;\n",
       "    }\n",
       "</style>\n",
       "<table border=\"1\" class=\"dataframe\">\n",
       "  <thead>\n",
       "    <tr style=\"text-align: right;\">\n",
       "      <th></th>\n",
       "      <th>Train RMSE</th>\n",
       "      <th>Train MAE</th>\n",
       "      <th>Test RMSE</th>\n",
       "      <th>Test MAE</th>\n",
       "    </tr>\n",
       "  </thead>\n",
       "  <tbody>\n",
       "    <tr>\n",
       "      <th>0</th>\n",
       "      <td>10.370433</td>\n",
       "      <td>8.120414</td>\n",
       "      <td>10.375305</td>\n",
       "      <td>8.372365</td>\n",
       "    </tr>\n",
       "  </tbody>\n",
       "</table>\n",
       "</div>"
      ],
      "text/plain": [
       "   Train RMSE  Train MAE  Test RMSE  Test MAE\n",
       "0   10.370433   8.120414  10.375305  8.372365"
      ]
     },
     "execution_count": 493,
     "metadata": {},
     "output_type": "execute_result"
    }
   ],
   "source": [
    "# Calculating RMSE and MAE for training and test data\n",
    "rmse_train = calculate_rmse(y_train, y_pred_train)\n",
    "mae_train = calculate_mae(y_train, y_pred_train)\n",
    "rmse_test = calculate_rmse(y_test, y_pred_test)\n",
    "mae_test = calculate_mae(y_test, y_pred_test)\n",
    "\n",
    "# Creating a DataFrame to display RMSEs and MAEs\n",
    "results_df = pd.DataFrame({\"Train RMSE\": [rmse_train], \"Train MAE\": [mae_train], \"Test RMSE\": [rmse_test], \"Test MAE\": [mae_test]})\n",
    "\n",
    "# Results\n",
    "results_df"
   ]
  },
  {
   "cell_type": "code",
   "execution_count": 494,
   "metadata": {},
   "outputs": [
    {
     "data": {
      "image/png": "[encoded data removed]",
      "text/plain": [
       "<Figure size 1440x720 with 1 Axes>"
      ]
     },
     "metadata": {
      "needs_background": "light"
     },
     "output_type": "display_data"
    }
   ],
   "source": [
    "# Plotting\n",
    "plt.figure(figsize=(20, 10))\n",
    "plt.scatter(X_train[:, 1], y_train, color='brown', label='Training Data')\n",
    "plt.plot(X_train[:, 1], y_pred_train, color='black', label='Fitted Line')\n",
    "## Labels for axis\n",
    "plt.xlabel('x')\n",
    "plt.ylabel('y')\n",
    "# Title\n",
    "plt.title('Ridge Regression (Linear) Closed Form')\n",
    "plt.legend()\n",
    "plt.show()"
   ]
  },
  {
   "cell_type": "markdown",
   "metadata": {},
   "source": [
    "### Polynomial Regression Closed Form"
   ]
  },
  {
   "cell_type": "code",
   "execution_count": 495,
   "metadata": {},
   "outputs": [
    {
     "data": {
      "text/html": [
       "<div>\n",
       "<style scoped>\n",
       "    .dataframe tbody tr th:only-of-type {\n",
       "        vertical-align: middle;\n",
       "    }\n",
       "\n",
       "    .dataframe tbody tr th {\n",
       "        vertical-align: top;\n",
       "    }\n",
       "\n",
       "    .dataframe thead th {\n",
       "        text-align: right;\n",
       "    }\n",
       "</style>\n",
       "<table border=\"1\" class=\"dataframe\">\n",
       "  <thead>\n",
       "    <tr style=\"text-align: right;\">\n",
       "      <th></th>\n",
       "      <th>Intercept</th>\n",
       "      <th>x1</th>\n",
       "      <th>x2</th>\n",
       "      <th>x3</th>\n",
       "      <th>x4</th>\n",
       "      <th>x5</th>\n",
       "    </tr>\n",
       "  </thead>\n",
       "  <tbody>\n",
       "    <tr>\n",
       "      <th>0</th>\n",
       "      <td>-0.517348</td>\n",
       "      <td>3.431205</td>\n",
       "      <td>-2.184987</td>\n",
       "      <td>0.483392</td>\n",
       "      <td>-0.043845</td>\n",
       "      <td>0.001395</td>\n",
       "    </tr>\n",
       "  </tbody>\n",
       "</table>\n",
       "</div>"
      ],
      "text/plain": [
       "   Intercept        x1        x2        x3        x4        x5\n",
       "0  -0.517348  3.431205 -2.184987  0.483392 -0.043845  0.001395"
      ]
     },
     "execution_count": 495,
     "metadata": {},
     "output_type": "execute_result"
    }
   ],
   "source": [
    "# Training dataframes parsed for x, and y values\n",
    "x_train, y_train = poly_train['x'].values, poly_train['y'].values\n",
    "# Test dataframes parsed for x, and y values\n",
    "x_test, y_test = poly_test['x'].values, poly_test['y'].values\n",
    "\n",
    "# Generate polynomial features up to the fifth degree\n",
    "poly = PolynomialFeatures(degree=5, include_bias=False) ## sklearns used for preprocessing\n",
    "x_train_poly = poly.fit_transform(x_train[:, np.newaxis])\n",
    "x_test_poly = poly.transform(x_test[:, np.newaxis])\n",
    "\n",
    "# Ridge Regression parameters\n",
    "lambda_param = 0.0001  # Regularization strength\n",
    "\n",
    "# Add a column of ones to the input features to account for the bias term\n",
    "x_train_poly_bias = np.hstack([np.ones((x_train_poly.shape[0], 1)), x_train_poly])\n",
    "x_test_poly_bias = np.hstack([np.ones((x_test_poly.shape[0], 1)), x_test_poly])\n",
    "\n",
    "# Compute the Ridge Regression coefficients (theta) using the closed-form solution\n",
    "I = np.eye(x_train_poly_bias.shape[1])\n",
    "I[0, 0] = 0  # Avoid regularizing the bias term\n",
    "theta = np.linalg.inv(x_train_poly_bias.T.dot(x_train_poly_bias) + lambda_param * I).dot(x_train_poly_bias.T).dot(y_train)\n",
    "\n",
    "# Predictions for training and test datasets\n",
    "y_train_pred = x_train_poly_bias.dot(theta)\n",
    "y_test_pred = x_test_poly_bias.dot(theta)\n",
    "\n",
    "# intercept and coefficients are in theta var\n",
    "results_bf = pd.DataFrame({\"Intercept\": [theta[0]], \"x1\": [theta[1]], \"x2\": [theta[2]], \"x3\": [theta[3]], \"x4\": [theta[4]], \"x5\": [theta[5]] })\n",
    "results_bf"
   ]
  },
  {
   "cell_type": "code",
   "execution_count": 496,
   "metadata": {},
   "outputs": [
    {
     "data": {
      "text/html": [
       "<div>\n",
       "<style scoped>\n",
       "    .dataframe tbody tr th:only-of-type {\n",
       "        vertical-align: middle;\n",
       "    }\n",
       "\n",
       "    .dataframe tbody tr th {\n",
       "        vertical-align: top;\n",
       "    }\n",
       "\n",
       "    .dataframe thead th {\n",
       "        text-align: right;\n",
       "    }\n",
       "</style>\n",
       "<table border=\"1\" class=\"dataframe\">\n",
       "  <thead>\n",
       "    <tr style=\"text-align: right;\">\n",
       "      <th></th>\n",
       "      <th>Train RMSE</th>\n",
       "      <th>Train MAE</th>\n",
       "      <th>Test RMSE</th>\n",
       "      <th>Test MAE</th>\n",
       "    </tr>\n",
       "  </thead>\n",
       "  <tbody>\n",
       "    <tr>\n",
       "      <th>0</th>\n",
       "      <td>0.290398</td>\n",
       "      <td>0.240358</td>\n",
       "      <td>0.271824</td>\n",
       "      <td>0.223298</td>\n",
       "    </tr>\n",
       "  </tbody>\n",
       "</table>\n",
       "</div>"
      ],
      "text/plain": [
       "   Train RMSE  Train MAE  Test RMSE  Test MAE\n",
       "0    0.290398   0.240358   0.271824  0.223298"
      ]
     },
     "execution_count": 496,
     "metadata": {},
     "output_type": "execute_result"
    }
   ],
   "source": [
    "# Calculating RMSE and MAE for training and test data\n",
    "rmse_train = calculate_rmse(y_train, y_train_pred)\n",
    "mae_train = calculate_mae(y_train, y_train_pred)\n",
    "rmse_test = calculate_rmse(y_test, y_test_pred)\n",
    "mae_test = calculate_mae(y_test, y_test_pred)\n",
    "\n",
    "# Generate a range of values for x to plot the polynomial curve\n",
    "x_range = np.linspace(x_train.min(), x_train.max(), 400)\n",
    "x_range_poly = poly.transform(x_range[:, np.newaxis])\n",
    "x_range_poly_bias = np.hstack([np.ones((x_range_poly.shape[0], 1)), x_range_poly])\n",
    "\n",
    "# Predict y values for the generated range of x values\n",
    "y_range_pred = x_range_poly_bias.dot(theta)\n",
    "\n",
    "# Creating a DataFrame to display RMSEs and MAEs\n",
    "results_df = pd.DataFrame({\"Train RMSE\": [rmse_train], \"Train MAE\": [mae_train], \"Test RMSE\": [rmse_test], \"Test MAE\": [mae_test]})\n",
    "\n",
    "# Results\n",
    "results_df"
   ]
  },
  {
   "cell_type": "code",
   "execution_count": 497,
   "metadata": {},
   "outputs": [
    {
     "data": {
      "image/png": "[encoded data removed]",
      "text/plain": [
       "<Figure size 1440x720 with 1 Axes>"
      ]
     },
     "metadata": {
      "needs_background": "light"
     },
     "output_type": "display_data"
    }
   ],
   "source": [
    "# Plotting\n",
    "plt.figure(figsize=(20, 10))\n",
    "plt.scatter(x_train, y_train, color='brown', label='Training data')\n",
    "plt.plot(x_range, y_range_pred, color='black', label='Fitted polynomial curve')\n",
    "# Label the axis\n",
    "plt.xlabel('x')\n",
    "plt.ylabel('y')\n",
    "# Title\n",
    "plt.title('Polynomial Ridge Regression (5th Degree) Fitted Curve')\n",
    "plt.legend()\n",
    "plt.show()"
   ]
  },
  {
   "cell_type": "markdown",
   "metadata": {},
   "source": [
    "### Ridge Regression with Gradient Descent"
   ]
  },
  {
   "cell_type": "code",
   "execution_count": 498,
   "metadata": {},
   "outputs": [
    {
     "data": {
      "text/html": [
       "<div>\n",
       "<style scoped>\n",
       "    .dataframe tbody tr th:only-of-type {\n",
       "        vertical-align: middle;\n",
       "    }\n",
       "\n",
       "    .dataframe tbody tr th {\n",
       "        vertical-align: top;\n",
       "    }\n",
       "\n",
       "    .dataframe thead th {\n",
       "        text-align: right;\n",
       "    }\n",
       "</style>\n",
       "<table border=\"1\" class=\"dataframe\">\n",
       "  <thead>\n",
       "    <tr style=\"text-align: right;\">\n",
       "      <th></th>\n",
       "      <th>Intercept</th>\n",
       "      <th>Coef</th>\n",
       "    </tr>\n",
       "  </thead>\n",
       "  <tbody>\n",
       "    <tr>\n",
       "      <th>0</th>\n",
       "      <td>[73.17361562126234]</td>\n",
       "      <td>[11.647516454208171]</td>\n",
       "    </tr>\n",
       "  </tbody>\n",
       "</table>\n",
       "</div>"
      ],
      "text/plain": [
       "             Intercept                  Coef\n",
       "0  [73.17361562126234]  [11.647516454208171]"
      ]
     },
     "execution_count": 498,
     "metadata": {},
     "output_type": "execute_result"
    }
   ],
   "source": [
    "# Training and test dataframes parsed for x, and y values\n",
    "x_train = ridge_train['x'].values.reshape(-1, 1)\n",
    "y_train = ridge_train['y'].values.reshape(-1, 1)\n",
    "x_test = ridge_test['x'].values.reshape(-1, 1)\n",
    "y_test = ridge_test['y'].values.reshape(-1, 1)\n",
    "\n",
    "# Had to scale to get the result measurements because of nan errors\n",
    "\n",
    "# Scaling x\n",
    "scaler = StandardScaler()\n",
    "X_train_scaled = scaler.fit_transform(x_train)\n",
    "X_test_scaled = scaler.transform(x_test)\n",
    "\n",
    "# Adding a bias term to the scaled feature matrices\n",
    "X_train_scaled_bias = np.c_[np.ones(X_train_scaled.shape[0]), X_train_scaled]\n",
    "X_test_scaled_bias = np.c_[np.ones(X_test_scaled.shape[0]), X_test_scaled]\n",
    "\n",
    "# The ridge regression with scaling x\n",
    "theta, cost_history = ridge_regression_gradient_descent(X_train_scaled_bias, y_train, lr=0.01, epochs=1000, lambda_reg=0.001)\n",
    "\n",
    "# Predictions\n",
    "predictions_train = X_train_scaled_bias.dot(theta)\n",
    "predictions_test = X_test_scaled_bias.dot(theta)\n",
    "\n",
    "# intercept and coefficients are in theta var\n",
    "results_bf = pd.DataFrame({\"Intercept\": [theta[0]], \"Coef\": [theta[1]]})\n",
    "results_bf"
   ]
  },
  {
   "cell_type": "code",
   "execution_count": 499,
   "metadata": {},
   "outputs": [
    {
     "data": {
      "text/html": [
       "<div>\n",
       "<style scoped>\n",
       "    .dataframe tbody tr th:only-of-type {\n",
       "        vertical-align: middle;\n",
       "    }\n",
       "\n",
       "    .dataframe tbody tr th {\n",
       "        vertical-align: top;\n",
       "    }\n",
       "\n",
       "    .dataframe thead th {\n",
       "        text-align: right;\n",
       "    }\n",
       "</style>\n",
       "<table border=\"1\" class=\"dataframe\">\n",
       "  <thead>\n",
       "    <tr style=\"text-align: right;\">\n",
       "      <th></th>\n",
       "      <th>Train RMSE</th>\n",
       "      <th>Train MAE</th>\n",
       "      <th>Test RMSE</th>\n",
       "      <th>Test MAE</th>\n",
       "    </tr>\n",
       "  </thead>\n",
       "  <tbody>\n",
       "    <tr>\n",
       "      <th>0</th>\n",
       "      <td>10.37048</td>\n",
       "      <td>8.120745</td>\n",
       "      <td>10.371537</td>\n",
       "      <td>8.361684</td>\n",
       "    </tr>\n",
       "  </tbody>\n",
       "</table>\n",
       "</div>"
      ],
      "text/plain": [
       "   Train RMSE  Train MAE  Test RMSE  Test MAE\n",
       "0    10.37048   8.120745  10.371537  8.361684"
      ]
     },
     "execution_count": 499,
     "metadata": {},
     "output_type": "execute_result"
    }
   ],
   "source": [
    "# Calculating RMSE and MAE for training and test data\n",
    "rmse_train = calculate_rmse(y_train, predictions_train)\n",
    "mae_train = calculate_mae(y_train, predictions_train)\n",
    "rmse_test = calculate_rmse(y_test, predictions_test)\n",
    "mae_test = calculate_mae(y_test, predictions_test)\n",
    "\n",
    "# Creating a DataFrame to display RMSEs and MAEs\n",
    "results_df = pd.DataFrame({\"Train RMSE\": [rmse_train], \"Train MAE\": [mae_train], \"Test RMSE\": [rmse_test], \"Test MAE\": [mae_test]})\n",
    "\n",
    "# Display results\n",
    "results_df"
   ]
  },
  {
   "cell_type": "code",
   "execution_count": 500,
   "metadata": {},
   "outputs": [
    {
     "data": {
      "image/png": "[encoded data removed]",
      "text/plain": [
       "<Figure size 1440x720 with 1 Axes>"
      ]
     },
     "metadata": {
      "needs_background": "light"
     },
     "output_type": "display_data"
    }
   ],
   "source": [
    "# Plotting the cost function over epochs\n",
    "plt.figure(figsize=(20, 10))\n",
    "plt.plot(cost_history)\n",
    "# Title\n",
    "plt.title('Cost Function Decrease Over Epochs')\n",
    "# Labels for axis\n",
    "plt.xlabel('Epochs')\n",
    "plt.ylabel('Cost Function Value')\n",
    "plt.grid(True)\n",
    "plt.show()"
   ]
  },
  {
   "cell_type": "markdown",
   "metadata": {},
   "source": [
    "### Exact Line Search"
   ]
  },
  {
   "cell_type": "code",
   "execution_count": 501,
   "metadata": {},
   "outputs": [
    {
     "data": {
      "text/html": [
       "<div>\n",
       "<style scoped>\n",
       "    .dataframe tbody tr th:only-of-type {\n",
       "        vertical-align: middle;\n",
       "    }\n",
       "\n",
       "    .dataframe tbody tr th {\n",
       "        vertical-align: top;\n",
       "    }\n",
       "\n",
       "    .dataframe thead th {\n",
       "        text-align: right;\n",
       "    }\n",
       "</style>\n",
       "<table border=\"1\" class=\"dataframe\">\n",
       "  <thead>\n",
       "    <tr style=\"text-align: right;\">\n",
       "      <th></th>\n",
       "      <th>Intercept</th>\n",
       "      <th>Coef</th>\n",
       "    </tr>\n",
       "  </thead>\n",
       "  <tbody>\n",
       "    <tr>\n",
       "      <th>0</th>\n",
       "      <td>[72.52157362104847]</td>\n",
       "      <td>[11.543726722510208]</td>\n",
       "    </tr>\n",
       "  </tbody>\n",
       "</table>\n",
       "</div>"
      ],
      "text/plain": [
       "             Intercept                  Coef\n",
       "0  [72.52157362104847]  [11.543726722510208]"
      ]
     },
     "execution_count": 501,
     "metadata": {},
     "output_type": "execute_result"
    }
   ],
   "source": [
    "# Applying exact line search with ridge regression\n",
    "theta_els, cost_history_els = ridge_regression_with_exact_line_search(X_train_scaled_bias, y_train, epochs=1000, lambda_reg=0.01)\n",
    "\n",
    "# Predictions using the new model\n",
    "predictions_train_els = X_train_scaled_bias.dot(theta_els)\n",
    "predictions_test_els = X_test_scaled_bias.dot(theta_els)\n",
    "\n",
    "# intercept and coefficients are in theta var\n",
    "results_bf = pd.DataFrame({\"Intercept\": [theta_els[0]], \"Coef\": [theta_els[1]]})\n",
    "results_bf"
   ]
  },
  {
   "cell_type": "code",
   "execution_count": 502,
   "metadata": {},
   "outputs": [
    {
     "data": {
      "text/html": [
       "<div>\n",
       "<style scoped>\n",
       "    .dataframe tbody tr th:only-of-type {\n",
       "        vertical-align: middle;\n",
       "    }\n",
       "\n",
       "    .dataframe tbody tr th {\n",
       "        vertical-align: top;\n",
       "    }\n",
       "\n",
       "    .dataframe thead th {\n",
       "        text-align: right;\n",
       "    }\n",
       "</style>\n",
       "<table border=\"1\" class=\"dataframe\">\n",
       "  <thead>\n",
       "    <tr style=\"text-align: right;\">\n",
       "      <th></th>\n",
       "      <th>Train RMSE</th>\n",
       "      <th>Train MAE</th>\n",
       "      <th>Test RMSE</th>\n",
       "      <th>Test MAE</th>\n",
       "    </tr>\n",
       "  </thead>\n",
       "  <tbody>\n",
       "    <tr>\n",
       "      <th>0</th>\n",
       "      <td>10.396184</td>\n",
       "      <td>8.056888</td>\n",
       "      <td>10.414215</td>\n",
       "      <td>8.439543</td>\n",
       "    </tr>\n",
       "  </tbody>\n",
       "</table>\n",
       "</div>"
      ],
      "text/plain": [
       "   Train RMSE  Train MAE  Test RMSE  Test MAE\n",
       "0   10.396184   8.056888  10.414215  8.439543"
      ]
     },
     "execution_count": 502,
     "metadata": {},
     "output_type": "execute_result"
    }
   ],
   "source": [
    "# Evaluation metrics for the new model\n",
    "rmse_train_els = calculate_rmse(y_train, predictions_train_els)\n",
    "mae_train_els = calculate_mae(y_train, predictions_train_els)\n",
    "rmse_test_els = calculate_rmse(y_test, predictions_test_els)\n",
    "mae_test_els = calculate_mae(y_test, predictions_test_els)\n",
    "\n",
    "# Creating a DataFrame to display RMSEs and MAEs\n",
    "results_df = pd.DataFrame({\"Train RMSE\": [rmse_train_els], \"Train MAE\": [mae_train_els], \"Test RMSE\": [rmse_test_els], \"Test MAE\": [mae_test_els]})\n",
    "\n",
    "# Results\n",
    "results_df"
   ]
  },
  {
   "cell_type": "code",
   "execution_count": 503,
   "metadata": {},
   "outputs": [
    {
     "data": {
      "image/png": "[encoded data removed]",
      "text/plain": [
       "<Figure size 1440x720 with 1 Axes>"
      ]
     },
     "metadata": {
      "needs_background": "light"
     },
     "output_type": "display_data"
    }
   ],
   "source": [
    "# Plotting the cost function over epochs for the exact line search method\n",
    "plt.figure(figsize=(20, 10))\n",
    "plt.plot(cost_history_els, label='Exact Line Search')\n",
    "# Title\n",
    "plt.title('Cost Function Decrease Over Epochs with Exact Line Search')\n",
    "# Label for axis\n",
    "plt.xlabel('Epochs')\n",
    "plt.ylabel('Cost Function Value')\n",
    "plt.legend()\n",
    "plt.grid(True)\n",
    "plt.show()"
   ]
  }
 ],
 "metadata": {
  "kernelspec": {
   "display_name": "Python 3",
   "language": "python",
   "name": "python3"
  },
  "language_info": {
   "codemirror_mode": {
    "name": "ipython",
    "version": 3
   },
   "file_extension": ".py",
   "mimetype": "text/x-python",
   "name": "python",
   "nbconvert_exporter": "python",
   "pygments_lexer": "ipython3",
   "version": "3.9.18"
  }
 },
 "nbformat": 4,
 "nbformat_minor": 2
}
